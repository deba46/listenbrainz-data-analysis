{
 "cells": [
  {
   "cell_type": "code",
   "execution_count": 20,
   "metadata": {},
   "outputs": [],
   "source": [
    "import yaml\n",
    "from utils.db_utils import get_db_connection"
   ]
  },
  {
   "cell_type": "code",
   "execution_count": null,
   "metadata": {},
   "outputs": [],
   "source": [
    "# Load DB config\n",
    "with open(\"config/db_config.yaml\") as f:\n",
    "    db_config = yaml.safe_load(f)"
   ]
  },
  {
   "cell_type": "code",
   "execution_count": 17,
   "metadata": {},
   "outputs": [],
   "source": [
    "conn = get_db_connection(db_config)"
   ]
  },
  {
   "cell_type": "code",
   "execution_count": 18,
   "metadata": {},
   "outputs": [
    {
     "name": "stdout",
     "output_type": "stream",
     "text": [
      "------------------------------------------------\n",
      "Running query for : top_10_users \n",
      "------------------------------------------------\n",
      "        user_name  songs_listened\n",
      "0             hds           46885\n",
      "1         Groschi           14959\n",
      "2   Silent Singer           13005\n",
      "3           phdnk           12861\n",
      "4  6d6f7274686f6e           11544\n",
      "5        reverbel            8398\n",
      "6      Cl�psHydra            8318\n",
      "7  InvincibleAsia            7804\n",
      "8        cimualte            7356\n",
      "9           inhji            6349\n",
      "------------------------------------------------\n",
      "Running query for : users_by_date \n",
      "------------------------------------------------\n",
      "   users_count\n",
      "0           76\n",
      "------------------------------------------------\n",
      "Running query for : 1st_song_user_listened \n",
      "------------------------------------------------\n",
      "           user_name                            track_name      listened_at_ts\n",
      "0     6d6f7274686f6e                    The Leper Affinity 2019-01-01 11:41:51\n",
      "1      Adsky_traktor           Сердце с долгом разлучается 2019-01-01 10:24:44\n",
      "2          AllSparks                                 Fever 2019-01-02 09:48:19\n",
      "3       AlwinHummels                      Geef me je angst 2019-02-24 12:40:47\n",
      "4              Arcor                       Exsultate Justi 2019-01-01 02:22:23\n",
      "..               ...                                   ...                 ...\n",
      "199       xvicarious                      Beer Bucket List 2019-01-01 02:06:13\n",
      "200          yellams  Hold You Under (feat. Marcus Bridge) 2019-01-02 10:37:47\n",
      "201  zebedeemcdougal                               Roygbiv 2019-01-02 13:37:20\n",
      "202           zergut                       Chasing The Sun 2019-01-02 13:19:03\n",
      "203  †AtzzkiySotona†                              Meridian 2019-01-05 12:13:45\n",
      "\n",
      "[204 rows x 3 columns]\n",
      "------------------------------------------------\n",
      "Running query for : top3_days_most_listens \n",
      "------------------------------------------------\n",
      "           user_name  number_of_listens listened_date\n",
      "0     6d6f7274686f6e                200    2019-01-27\n",
      "1     6d6f7274686f6e                195    2019-01-14\n",
      "2     6d6f7274686f6e                193    2019-01-16\n",
      "3      Adsky_traktor                109    2019-01-03\n",
      "4      Adsky_traktor                 99    2019-01-05\n",
      "..               ...                ...           ...\n",
      "574           zergut                 59    2019-02-26\n",
      "575           zergut                 42    2019-03-05\n",
      "576  †AtzzkiySotona†                 39    2019-01-09\n",
      "577  †AtzzkiySotona†                 37    2019-03-21\n",
      "578  †AtzzkiySotona†                 35    2019-03-19\n",
      "\n",
      "[579 rows x 3 columns]\n",
      "------------------------------------------------\n",
      "Running query for : daily_active_users \n",
      "------------------------------------------------\n",
      "    listened_date  number_active_users percentage_active_users\n",
      "0      2019-01-01                   70                   34.31\n",
      "1      2019-01-02                   95                   46.57\n",
      "2      2019-01-03                  102                   50.00\n",
      "3      2019-01-04                  107                   52.45\n",
      "4      2019-01-05                  108                   52.94\n",
      "..            ...                  ...                     ...\n",
      "100    2019-04-11                   92                   45.10\n",
      "101    2019-04-12                   93                   45.59\n",
      "102    2019-04-13                   97                   47.55\n",
      "103    2019-04-14                   99                   48.53\n",
      "104    2019-04-15                   96                   47.06\n",
      "\n",
      "[105 rows x 3 columns]\n"
     ]
    }
   ],
   "source": [
    "import pandas as pd\n",
    "queries = ['sql/bi_queries/top_10_users.sql', 'sql/bi_queries/users_by_date.sql', 'sql/bi_queries/1st_song_user_listened.sql', \n",
    "            'sql/bi_queries/top3_days_most_listens.sql',  'sql/bi_queries/daily_active_users.sql']\n",
    "\n",
    "for query in queries:\n",
    "    print(\"------------------------------------------------\")\n",
    "    print(f\"Running query for : {query.split('/')[-1].replace('.sql','')} \")\n",
    "    print(\"------------------------------------------------\")\n",
    "    try:\n",
    "        with conn.cursor() as cursor:\n",
    "            with open(f\"{proj_dir}/{query}\", 'r') as f:\n",
    "                sql = f.read()\n",
    "            sql = sql.format(schema=\"music\")\n",
    "            cursor.execute(sql)\n",
    "            if cursor.description:\n",
    "                rows = cursor.fetchall()\n",
    "                colnames = [desc[0] for desc in cursor.description]\n",
    "                df = pd.DataFrame(rows, columns=colnames)\n",
    "                print(df)\n",
    "            #else:\n",
    "            #    conn.commit()\n",
    "            #    print(f\"Query executed successfully: {query}\")\n",
    "    except Exception as e:\n",
    "        print(f\"Error running query {query}: {e}\")\n",
    "        conn.rollback()"
   ]
  },
  {
   "cell_type": "code",
   "execution_count": 47,
   "metadata": {},
   "outputs": [],
   "source": [
    "conn.close()"
   ]
  }
 ],
 "metadata": {
  "kernelspec": {
   "display_name": "music",
   "language": "python",
   "name": "python3"
  },
  "language_info": {
   "codemirror_mode": {
    "name": "ipython",
    "version": 3
   },
   "file_extension": ".py",
   "mimetype": "text/x-python",
   "name": "python",
   "nbconvert_exporter": "python",
   "pygments_lexer": "ipython3",
   "version": "3.12.11"
  }
 },
 "nbformat": 4,
 "nbformat_minor": 2
}
